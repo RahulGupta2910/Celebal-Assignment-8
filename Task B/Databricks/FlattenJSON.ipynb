{
 "cells": [
  {
   "cell_type": "code",
   "execution_count": 0,
   "metadata": {
    "application/vnd.databricks.v1+cell": {
     "cellMetadata": {
      "byteLimit": 2048000,
      "rowLimit": 10000
     },
     "inputWidgets": {},
     "nuid": "ed8acb24-03b7-465a-9b73-003d86bcbf2d",
     "showTitle": false,
     "tableResultSettingsMap": {},
     "title": ""
    }
   },
   "outputs": [
    {
     "output_type": "stream",
     "name": "stdout",
     "output_type": "stream",
     "text": [
      "root\n |-- address: struct (nullable = true)\n |    |-- city: string (nullable = true)\n |    |-- state: string (nullable = true)\n |    |-- street: string (nullable = true)\n |    |-- zip: string (nullable = true)\n |-- customer_id: long (nullable = true)\n |-- email: string (nullable = true)\n |-- name: string (nullable = true)\n |-- orders: array (nullable = true)\n |    |-- element: struct (containsNull = true)\n |    |    |-- items: array (nullable = true)\n |    |    |    |-- element: struct (containsNull = true)\n |    |    |    |    |-- item_id: string (nullable = true)\n |    |    |    |    |-- price: long (nullable = true)\n |    |    |    |    |-- product: string (nullable = true)\n |    |    |    |    |-- quantity: long (nullable = true)\n |    |    |-- order_date: string (nullable = true)\n |    |    |-- order_id: string (nullable = true)\n\n"
     ]
    }
   ],
   "source": [
    "df.printSchema()"
   ]
  },
  {
   "cell_type": "code",
   "execution_count": 0,
   "metadata": {
    "application/vnd.databricks.v1+cell": {
     "cellMetadata": {
      "byteLimit": 2048000,
      "rowLimit": 10000
     },
     "inputWidgets": {},
     "nuid": "950371e8-b231-4eb1-b574-35d9c8738ff7",
     "showTitle": false,
     "tableResultSettingsMap": {},
     "title": ""
    }
   },
   "outputs": [
    {
     "output_type": "stream",
     "name": "stdout",
     "output_type": "stream",
     "text": [
      "+-----------+-----------+-----------------------+-------------+----------+------+------+--------+----------+-------+--------+--------+-----+\n|customer_id|name       |email                  |street       |city      |state |zip   |order_id|order_date|item_id|product |quantity|price|\n+-----------+-----------+-----------------------+-------------+----------+------+------+--------+----------+-------+--------+--------+-----+\n|101        |Rahul Gupta|rahul.gupta@example.com|123 Sector 17|Chandigarh|Punjab|160017|ORD001  |2025-06-15|A1     |Laptop  |1       |75000|\n|101        |Rahul Gupta|rahul.gupta@example.com|123 Sector 17|Chandigarh|Punjab|160017|ORD001  |2025-06-15|A2     |Mouse   |2       |700  |\n|101        |Rahul Gupta|rahul.gupta@example.com|123 Sector 17|Chandigarh|Punjab|160017|ORD002  |2025-06-30|B1     |Keyboard|1       |1200 |\n+-----------+-----------+-----------------------+-------------+----------+------+------+--------+----------+-------+--------+--------+-----+\n\n"
     ]
    }
   ],
   "source": [
    "from pyspark.sql.functions import explode, col\n",
    "\n",
    "# Load JSON file\n",
    "df = spark.read.option(\"multiline\", \"true\").json(\"/mnt/jsondata/data.json\")\n",
    "\n",
    "# Flatten top-level fields\n",
    "df_flat = df.select(\n",
    "    \"customer_id\",\n",
    "    \"name\",\n",
    "    \"email\",\n",
    "    col(\"address.street\").alias(\"street\"),\n",
    "    col(\"address.city\").alias(\"city\"),\n",
    "    col(\"address.state\").alias(\"state\"),\n",
    "    col(\"address.zip\").alias(\"zip\"),\n",
    "    explode(\"orders\").alias(\"order\")\n",
    ")\n",
    "\n",
    "# Flatten orders\n",
    "df_order_flat = df_flat.select(\n",
    "    \"customer_id\",\n",
    "    \"name\",\n",
    "    \"email\",\n",
    "    \"street\",\n",
    "    \"city\",\n",
    "    \"state\",\n",
    "    \"zip\",\n",
    "    col(\"order.order_id\").alias(\"order_id\"),\n",
    "    col(\"order.order_date\").alias(\"order_date\"),\n",
    "    explode(\"order.items\").alias(\"item\")\n",
    ")\n",
    "\n",
    "# Flatten items\n",
    "final_df = df_order_flat.select(\n",
    "    \"customer_id\",\n",
    "    \"name\",\n",
    "    \"email\",\n",
    "    \"street\",\n",
    "    \"city\",\n",
    "    \"state\",\n",
    "    \"zip\",\n",
    "    \"order_id\",\n",
    "    \"order_date\",\n",
    "    col(\"item.item_id\").alias(\"item_id\"),\n",
    "    col(\"item.product\").alias(\"product\"),\n",
    "    col(\"item.quantity\").alias(\"quantity\"),\n",
    "    col(\"item.price\").alias(\"price\")\n",
    ")\n",
    "\n",
    "final_df.show(truncate=False)\n"
   ]
  },
  {
   "cell_type": "code",
   "execution_count": 0,
   "metadata": {
    "application/vnd.databricks.v1+cell": {
     "cellMetadata": {
      "byteLimit": 2048000,
      "rowLimit": 10000
     },
     "inputWidgets": {},
     "nuid": "c184680c-ba65-4bfe-8422-d284915fb512",
     "showTitle": false,
     "tableResultSettingsMap": {},
     "title": ""
    }
   },
   "outputs": [],
   "source": [
    "spark.conf.set(\n",
    "  \"fs.azure.account.key.jsonstorage2025.dfs.core.windows.net\",\n",
    "  \"dnF+QxBu/wAnfhl9f/2qS5WHn4SYMCqpDGgkxYg3CTHTa8n1w1POTcVmiCQOa2wTeXlJALLSjEh0+AStb/QqBw==\"\n",
    ")\n"
   ]
  },
  {
   "cell_type": "code",
   "execution_count": 0,
   "metadata": {
    "application/vnd.databricks.v1+cell": {
     "cellMetadata": {
      "byteLimit": 2048000,
      "rowLimit": 10000
     },
     "inputWidgets": {},
     "nuid": "3def9301-1bda-402c-ad08-64d1613a49dc",
     "showTitle": false,
     "tableResultSettingsMap": {},
     "title": ""
    }
   },
   "outputs": [],
   "source": [
    "final_df.write.mode(\"overwrite\").parquet(\"/mnt/jsondata/flattened_output\")\n",
    "\n",
    "final_df.write.mode(\"overwrite\").parquet(\"abfss://jsondata@jsonstorage2025.dfs.core.windows.net/output/flattened_output\")"
   ]
  },
  {
   "cell_type": "code",
   "execution_count": 0,
   "metadata": {
    "application/vnd.databricks.v1+cell": {
     "cellMetadata": {
      "byteLimit": 2048000,
      "rowLimit": 10000
     },
     "inputWidgets": {},
     "nuid": "9e3c429d-6d40-4237-a877-807dc61ce971",
     "showTitle": false,
     "tableResultSettingsMap": {},
     "title": ""
    }
   },
   "outputs": [
    {
     "output_type": "stream",
     "name": "stdout",
     "output_type": "stream",
     "text": [
      "+-----------+-----------+-----------------------+-------------+----------+------+------+--------+----------+-------+--------+--------+-----+\n|customer_id|name       |email                  |street       |city      |state |zip   |order_id|order_date|item_id|product |quantity|price|\n+-----------+-----------+-----------------------+-------------+----------+------+------+--------+----------+-------+--------+--------+-----+\n|101        |Rahul Gupta|rahul.gupta@example.com|123 Sector 17|Chandigarh|Punjab|160017|ORD001  |2025-06-15|A1     |Laptop  |1       |75000|\n|101        |Rahul Gupta|rahul.gupta@example.com|123 Sector 17|Chandigarh|Punjab|160017|ORD001  |2025-06-15|A2     |Mouse   |2       |700  |\n|101        |Rahul Gupta|rahul.gupta@example.com|123 Sector 17|Chandigarh|Punjab|160017|ORD002  |2025-06-30|B1     |Keyboard|1       |1200 |\n+-----------+-----------+-----------------------+-------------+----------+------+------+--------+----------+-------+--------+--------+-----+\n\n"
     ]
    }
   ],
   "source": [
    "# Checking the output\n",
    "df = spark.read.parquet(\"abfss://jsondata@jsonstorage2025.dfs.core.windows.net/output/flattened_output/\")\n",
    "df.show(truncate=False)\n"
   ]
  },
  {
   "cell_type": "code",
   "execution_count": 0,
   "metadata": {
    "application/vnd.databricks.v1+cell": {
     "cellMetadata": {
      "byteLimit": 2048000,
      "implicitDf": true,
      "rowLimit": 10000
     },
     "inputWidgets": {},
     "nuid": "7188acdc-62e4-447f-9364-6ae7b8110328",
     "showTitle": false,
     "tableResultSettingsMap": {},
     "title": ""
    }
   },
   "outputs": [],
   "source": [
    "%sql\n",
    "CREATE TABLE IF NOT EXISTS flattened_output\n",
    "USING PARQUET\n",
    "OPTIONS (\n",
    "  path \"abfss://jsondata@jsonstorage2025.dfs.core.windows.net/output/flattened_output/\"\n",
    ");"
   ]
  },
  {
   "cell_type": "code",
   "execution_count": 0,
   "metadata": {
    "application/vnd.databricks.v1+cell": {
     "cellMetadata": {
      "byteLimit": 2048000,
      "implicitDf": true,
      "rowLimit": 10000
     },
     "inputWidgets": {},
     "nuid": "7a397537-2c69-4bb6-979c-679489fcee9b",
     "showTitle": false,
     "tableResultSettingsMap": {},
     "title": ""
    }
   },
   "outputs": [
    {
     "output_type": "display_data",
     "data": {
      "text/html": [
       "<style scoped>\n",
       "  .table-result-container {\n",
       "    max-height: 300px;\n",
       "    overflow: auto;\n",
       "  }\n",
       "  table, th, td {\n",
       "    border: 1px solid black;\n",
       "    border-collapse: collapse;\n",
       "  }\n",
       "  th, td {\n",
       "    padding: 5px;\n",
       "  }\n",
       "  th {\n",
       "    text-align: left;\n",
       "  }\n",
       "</style><div class='table-result-container'><table class='table-result'><thead style='background-color: white'><tr><th>database</th><th>tableName</th><th>isTemporary</th></tr></thead><tbody><tr><td>default</td><td>flattened_output</td><td>false</td></tr><tr><td></td><td>_sqldf</td><td>true</td></tr></tbody></table></div>"
      ]
     },
     "metadata": {
      "application/vnd.databricks.v1+output": {
       "addedWidgets": {},
       "aggData": [],
       "aggError": "",
       "aggOverflow": false,
       "aggSchema": [],
       "aggSeriesLimitReached": false,
       "aggType": "",
       "arguments": {},
       "columnCustomDisplayInfos": {},
       "data": [
        [
         "default",
         "flattened_output",
         false
        ],
        [
         "",
         "_sqldf",
         true
        ]
       ],
       "datasetInfos": [
        {
         "name": "_sqldf",
         "schema": {
          "fields": [
           {
            "metadata": {},
            "name": "database",
            "nullable": false,
            "type": "string"
           },
           {
            "metadata": {},
            "name": "tableName",
            "nullable": false,
            "type": "string"
           },
           {
            "metadata": {},
            "name": "isTemporary",
            "nullable": false,
            "type": "boolean"
           }
          ],
          "type": "struct"
         },
         "tableIdentifier": null,
         "typeStr": "pyspark.sql.dataframe.DataFrame"
        }
       ],
       "dbfsResultPath": null,
       "isJsonSchema": true,
       "metadata": {
        "createTempViewForImplicitDf": true,
        "dataframeName": "_sqldf",
        "executionCount": 19
       },
       "overflow": false,
       "plotOptions": {
        "customPlotOptions": {},
        "displayType": "table",
        "pivotAggregation": null,
        "pivotColumns": null,
        "xColumns": null,
        "yColumns": null
       },
       "removedWidgets": [],
       "schema": [
        {
         "metadata": "{}",
         "name": "database",
         "type": "\"string\""
        },
        {
         "metadata": "{}",
         "name": "tableName",
         "type": "\"string\""
        },
        {
         "metadata": "{}",
         "name": "isTemporary",
         "type": "\"boolean\""
        }
       ],
       "type": "table"
      }
     },
     "output_type": "display_data"
    }
   ],
   "source": [
    "%sql\n",
    "SHOW TABLES;"
   ]
  },
  {
   "cell_type": "code",
   "execution_count": 0,
   "metadata": {
    "application/vnd.databricks.v1+cell": {
     "cellMetadata": {
      "byteLimit": 2048000,
      "implicitDf": true,
      "rowLimit": 10000
     },
     "inputWidgets": {},
     "nuid": "0061ea14-ae1e-4028-bdbc-2e10198d006e",
     "showTitle": false,
     "tableResultSettingsMap": {},
     "title": ""
    }
   },
   "outputs": [
    {
     "output_type": "display_data",
     "data": {
      "text/html": [
       "<style scoped>\n",
       "  .table-result-container {\n",
       "    max-height: 300px;\n",
       "    overflow: auto;\n",
       "  }\n",
       "  table, th, td {\n",
       "    border: 1px solid black;\n",
       "    border-collapse: collapse;\n",
       "  }\n",
       "  th, td {\n",
       "    padding: 5px;\n",
       "  }\n",
       "  th {\n",
       "    text-align: left;\n",
       "  }\n",
       "</style><div class='table-result-container'><table class='table-result'><thead style='background-color: white'><tr><th>customer_id</th><th>name</th><th>email</th><th>street</th><th>city</th><th>state</th><th>zip</th><th>order_id</th><th>order_date</th><th>item_id</th><th>product</th><th>quantity</th><th>price</th></tr></thead><tbody><tr><td>101</td><td>Rahul Gupta</td><td>rahul.gupta@example.com</td><td>123 Sector 17</td><td>Chandigarh</td><td>Punjab</td><td>160017</td><td>ORD001</td><td>2025-06-15</td><td>A1</td><td>Laptop</td><td>1</td><td>75000</td></tr><tr><td>101</td><td>Rahul Gupta</td><td>rahul.gupta@example.com</td><td>123 Sector 17</td><td>Chandigarh</td><td>Punjab</td><td>160017</td><td>ORD001</td><td>2025-06-15</td><td>A2</td><td>Mouse</td><td>2</td><td>700</td></tr><tr><td>101</td><td>Rahul Gupta</td><td>rahul.gupta@example.com</td><td>123 Sector 17</td><td>Chandigarh</td><td>Punjab</td><td>160017</td><td>ORD002</td><td>2025-06-30</td><td>B1</td><td>Keyboard</td><td>1</td><td>1200</td></tr></tbody></table></div>"
      ]
     },
     "metadata": {
      "application/vnd.databricks.v1+output": {
       "addedWidgets": {},
       "aggData": [],
       "aggError": "",
       "aggOverflow": false,
       "aggSchema": [],
       "aggSeriesLimitReached": false,
       "aggType": "",
       "arguments": {},
       "columnCustomDisplayInfos": {},
       "data": [
        [
         101,
         "Rahul Gupta",
         "rahul.gupta@example.com",
         "123 Sector 17",
         "Chandigarh",
         "Punjab",
         "160017",
         "ORD001",
         "2025-06-15",
         "A1",
         "Laptop",
         1,
         75000
        ],
        [
         101,
         "Rahul Gupta",
         "rahul.gupta@example.com",
         "123 Sector 17",
         "Chandigarh",
         "Punjab",
         "160017",
         "ORD001",
         "2025-06-15",
         "A2",
         "Mouse",
         2,
         700
        ],
        [
         101,
         "Rahul Gupta",
         "rahul.gupta@example.com",
         "123 Sector 17",
         "Chandigarh",
         "Punjab",
         "160017",
         "ORD002",
         "2025-06-30",
         "B1",
         "Keyboard",
         1,
         1200
        ]
       ],
       "datasetInfos": [
        {
         "name": "_sqldf",
         "schema": {
          "fields": [
           {
            "metadata": {},
            "name": "customer_id",
            "nullable": true,
            "type": "long"
           },
           {
            "metadata": {},
            "name": "name",
            "nullable": true,
            "type": "string"
           },
           {
            "metadata": {},
            "name": "email",
            "nullable": true,
            "type": "string"
           },
           {
            "metadata": {},
            "name": "street",
            "nullable": true,
            "type": "string"
           },
           {
            "metadata": {},
            "name": "city",
            "nullable": true,
            "type": "string"
           },
           {
            "metadata": {},
            "name": "state",
            "nullable": true,
            "type": "string"
           },
           {
            "metadata": {},
            "name": "zip",
            "nullable": true,
            "type": "string"
           },
           {
            "metadata": {},
            "name": "order_id",
            "nullable": true,
            "type": "string"
           },
           {
            "metadata": {},
            "name": "order_date",
            "nullable": true,
            "type": "string"
           },
           {
            "metadata": {},
            "name": "item_id",
            "nullable": true,
            "type": "string"
           },
           {
            "metadata": {},
            "name": "product",
            "nullable": true,
            "type": "string"
           },
           {
            "metadata": {},
            "name": "quantity",
            "nullable": true,
            "type": "long"
           },
           {
            "metadata": {},
            "name": "price",
            "nullable": true,
            "type": "long"
           }
          ],
          "type": "struct"
         },
         "tableIdentifier": null,
         "typeStr": "pyspark.sql.dataframe.DataFrame"
        }
       ],
       "dbfsResultPath": null,
       "isJsonSchema": true,
       "metadata": {
        "createTempViewForImplicitDf": true,
        "dataframeName": "_sqldf",
        "executionCount": 18
       },
       "overflow": false,
       "plotOptions": {
        "customPlotOptions": {},
        "displayType": "table",
        "pivotAggregation": null,
        "pivotColumns": null,
        "xColumns": null,
        "yColumns": null
       },
       "removedWidgets": [],
       "schema": [
        {
         "metadata": "{}",
         "name": "customer_id",
         "type": "\"long\""
        },
        {
         "metadata": "{}",
         "name": "name",
         "type": "\"string\""
        },
        {
         "metadata": "{}",
         "name": "email",
         "type": "\"string\""
        },
        {
         "metadata": "{}",
         "name": "street",
         "type": "\"string\""
        },
        {
         "metadata": "{}",
         "name": "city",
         "type": "\"string\""
        },
        {
         "metadata": "{}",
         "name": "state",
         "type": "\"string\""
        },
        {
         "metadata": "{}",
         "name": "zip",
         "type": "\"string\""
        },
        {
         "metadata": "{}",
         "name": "order_id",
         "type": "\"string\""
        },
        {
         "metadata": "{}",
         "name": "order_date",
         "type": "\"string\""
        },
        {
         "metadata": "{}",
         "name": "item_id",
         "type": "\"string\""
        },
        {
         "metadata": "{}",
         "name": "product",
         "type": "\"string\""
        },
        {
         "metadata": "{}",
         "name": "quantity",
         "type": "\"long\""
        },
        {
         "metadata": "{}",
         "name": "price",
         "type": "\"long\""
        }
       ],
       "type": "table"
      }
     },
     "output_type": "display_data"
    }
   ],
   "source": [
    "%sql\n",
    "SELECT * FROM flattened_output LIMIT 10;"
   ]
  }
 ],
 "metadata": {
  "application/vnd.databricks.v1+notebook": {
   "computePreferences": null,
   "dashboards": [],
   "environmentMetadata": {
    "base_environment": "",
    "environment_version": "2"
   },
   "inputWidgetPreferences": null,
   "language": "python",
   "notebookMetadata": {
    "mostRecentlyExecutedCommandWithImplicitDF": {
     "commandId": 5488068947338322,
     "dataframes": [
      "_sqldf"
     ]
    },
    "pythonIndentUnit": 4
   },
   "notebookName": "FlattenJSON",
   "widgets": {}
  },
  "language_info": {
   "name": "python"
  }
 },
 "nbformat": 4,
 "nbformat_minor": 0
}