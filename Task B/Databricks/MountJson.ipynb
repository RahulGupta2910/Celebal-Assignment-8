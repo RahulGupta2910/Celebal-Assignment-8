{
 "cells": [
  {
   "cell_type": "code",
   "execution_count": 0,
   "metadata": {
    "application/vnd.databricks.v1+cell": {
     "cellMetadata": {
      "byteLimit": 2048000,
      "rowLimit": 10000
     },
     "inputWidgets": {},
     "nuid": "8cf9046b-883e-4bf7-853e-f81b80c4342b",
     "showTitle": false,
     "tableResultSettingsMap": {},
     "title": ""
    }
   },
   "outputs": [
    {
     "output_type": "execute_result",
     "data": {
      "text/plain": [
       "True"
      ]
     },
     "execution_count": 1,
     "metadata": {},
     "output_type": "execute_result"
    }
   ],
   "source": [
    "dbutils.fs.mount(\n",
    "  source = \"wasbs://jsondata@jsonstorage2025.blob.core.windows.net\",\n",
    "  mount_point = \"/mnt/jsondata\",\n",
    "  extra_configs = {\n",
    "    \"fs.azure.account.key.jsonstorage2025.blob.core.windows.net\": \"pmbl7cQhvDFVk4X04avjGZ5GDsAmQbqxdPFTIWSOn9ruiN5jJhkgGlPsEdheoEz9rHtAV4O5e09M+ASt37ck5w==\"\n",
    "  })\n"
   ]
  }
 ],
 "metadata": {
  "application/vnd.databricks.v1+notebook": {
   "computePreferences": null,
   "dashboards": [],
   "environmentMetadata": {
    "base_environment": "",
    "environment_version": "2"
   },
   "inputWidgetPreferences": null,
   "language": "python",
   "notebookMetadata": {
    "pythonIndentUnit": 4
   },
   "notebookName": "MountJson",
   "widgets": {}
  },
  "language_info": {
   "name": "python"
  }
 },
 "nbformat": 4,
 "nbformat_minor": 0
}